{
 "cells": [
  {
   "cell_type": "markdown",
   "id": "2b6f3e36",
   "metadata": {},
   "source": [
    "## 1. 3의 배수의 합 구하기"
   ]
  },
  {
   "cell_type": "code",
   "execution_count": 1,
   "id": "2a1dfe7f",
   "metadata": {},
   "outputs": [
    {
     "name": "stdout",
     "output_type": "stream",
     "text": [
      "166833\n",
      "166833\n"
     ]
    }
   ],
   "source": [
    "i = 0\n",
    "total_while = 0\n",
    "total_for = 0\n",
    "\n",
    "while i < 1000:\n",
    "    if (i+1) % 3 == 0:\n",
    "        total_while += (i+1)\n",
    "    i += 1\n",
    "    \n",
    "print(total_while)\n",
    "\n",
    "for i in range(0, 1000):\n",
    "    if (i+1) % 3 == 0:\n",
    "        total_for += (i+1)\n",
    "        \n",
    "print(total_for)"
   ]
  },
  {
   "cell_type": "markdown",
   "id": "a9574277",
   "metadata": {},
   "source": [
    "## 2. 별 찍기"
   ]
  },
  {
   "cell_type": "code",
   "execution_count": 2,
   "id": "39f4d9ee",
   "metadata": {},
   "outputs": [
    {
     "name": "stdout",
     "output_type": "stream",
     "text": [
      "12\n",
      "            \n",
      "           *\n",
      "          ***\n",
      "         *****\n",
      "        *******\n",
      "       *********\n",
      "      ***********\n",
      "       *********\n",
      "        *******\n",
      "         *****\n",
      "          ***\n",
      "           *\n"
     ]
    }
   ],
   "source": [
    "i = int(input()) # i는 짝수\n",
    "for n in range(i):\n",
    "    if n <= i/2:\n",
    "        # print(' '*(int(i/2)-n) + '*'*(2*n-1))\n",
    "        print(' '*(i-n) + '*'*(2*n-1))\n",
    "    else:\n",
    "        # print(' '*(n-int(i/2)) + '*'*(2*(i-n)-1))\n",
    "        print(' '*(n) + '*'*(2*(i-n)-1))"
   ]
  },
  {
   "cell_type": "markdown",
   "id": "4620a859",
   "metadata": {},
   "source": [
    "## 3. A 학급의 평균 점수 구하기"
   ]
  },
  {
   "cell_type": "code",
   "execution_count": 3,
   "id": "3a9cdc3d",
   "metadata": {},
   "outputs": [
    {
     "name": "stdout",
     "output_type": "stream",
     "text": [
      "79.0\n"
     ]
    }
   ],
   "source": [
    "marks = [70, 60, 55, 75, 95, 90, 80, 80, 85, 100]\n",
    "avg = 0\n",
    "for v in marks:\n",
    "    avg += v\n",
    "    \n",
    "avg /= len(marks)\n",
    "print(avg)"
   ]
  },
  {
   "cell_type": "markdown",
   "id": "79783c2d",
   "metadata": {},
   "source": [
    "## 4. 리스트 내포"
   ]
  },
  {
   "cell_type": "code",
   "execution_count": 4,
   "id": "9539e385",
   "metadata": {
    "scrolled": true
   },
   "outputs": [
    {
     "name": "stdout",
     "output_type": "stream",
     "text": [
      "[2, 6, 10]\n"
     ]
    }
   ],
   "source": [
    "numbers = [1, 2, 3, 4, 5]\n",
    "result = [n*2 for n in numbers if n % 2 == 1]\n",
    "print(result)"
   ]
  },
  {
   "cell_type": "markdown",
   "id": "11286728",
   "metadata": {},
   "source": [
    "## 5. 리스트 내포_2"
   ]
  },
  {
   "cell_type": "code",
   "execution_count": 5,
   "id": "da2a883a",
   "metadata": {},
   "outputs": [
    {
     "name": "stdout",
     "output_type": "stream",
     "text": [
      "[1, 4, 9, 16, 25]\n"
     ]
    }
   ],
   "source": [
    "nums = [1, 2, 3, 4, 5]\n",
    "result = [n ** 2 for n in nums]\n",
    "print(result)"
   ]
  },
  {
   "cell_type": "markdown",
   "id": "5e934ef2",
   "metadata": {},
   "source": [
    "## 6. 리스트 내포_3"
   ]
  },
  {
   "cell_type": "code",
   "execution_count": 6,
   "id": "56e6fe8d",
   "metadata": {},
   "outputs": [
    {
     "name": "stdout",
     "output_type": "stream",
     "text": [
      "[2, 4, 6, 8, 10]\n",
      "[1, 3, 5, 7, 9]\n"
     ]
    }
   ],
   "source": [
    "nums = [1, 2, 3, 4, 5, 6, 7, 8, 9, 10]\n",
    "even = [n for n in nums if n % 2 == 0]\n",
    "odd = [n for n in nums if n % 2 == 1]\n",
    "\n",
    "print(even)\n",
    "print(odd)"
   ]
  },
  {
   "cell_type": "markdown",
   "id": "fbd9da1f",
   "metadata": {},
   "source": [
    "## 7. range()"
   ]
  },
  {
   "cell_type": "code",
   "execution_count": 7,
   "id": "957d3ff6",
   "metadata": {},
   "outputs": [
    {
     "name": "stdout",
     "output_type": "stream",
     "text": [
      "[0, 1, 2, 3, 4, 5, 6, 7, 8, 9]\n"
     ]
    }
   ],
   "source": [
    "sequence = [n for n in range(10)]\n",
    "print(sequence)"
   ]
  },
  {
   "cell_type": "markdown",
   "id": "c4e1e42c",
   "metadata": {},
   "source": [
    "## 8. max"
   ]
  },
  {
   "cell_type": "code",
   "execution_count": 8,
   "id": "2585d9dd",
   "metadata": {},
   "outputs": [
    {
     "name": "stdout",
     "output_type": "stream",
     "text": [
      "9\n",
      "100\n",
      "1\n",
      "max: 100\n"
     ]
    }
   ],
   "source": [
    "i = 0\n",
    "inputs = [int(input()) for n in range(3)]\n",
    "   \n",
    "print('max: {}'.format(max(inputs)))"
   ]
  },
  {
   "cell_type": "code",
   "execution_count": 11,
   "id": "217be738",
   "metadata": {},
   "outputs": [
    {
     "name": "stdout",
     "output_type": "stream",
     "text": [
      "input number1: 100\n",
      "input number2: 0\n",
      "input number3: 1\n",
      "a:100\n"
     ]
    }
   ],
   "source": [
    "a = int(input(\"input number1: \"))\n",
    "b = int(input(\"input number2: \"))\n",
    "c = int(input(\"input number3: \"))\n",
    "\n",
    "if (a > b and a > c):\n",
    "    print(\"a:\" + str(a))\n",
    "elif (b > a and b > c):\n",
    "    print(\"b:\" + str(b))\n",
    "else:\n",
    "    print(\"c:\" + str(c))"
   ]
  },
  {
   "cell_type": "code",
   "execution_count": null,
   "id": "d4112cf7",
   "metadata": {},
   "outputs": [],
   "source": []
  }
 ],
 "metadata": {
  "kernelspec": {
   "display_name": "Python 3",
   "language": "python",
   "name": "python3"
  },
  "language_info": {
   "codemirror_mode": {
    "name": "ipython",
    "version": 3
   },
   "file_extension": ".py",
   "mimetype": "text/x-python",
   "name": "python",
   "nbconvert_exporter": "python",
   "pygments_lexer": "ipython3",
   "version": "3.8.8"
  }
 },
 "nbformat": 4,
 "nbformat_minor": 5
}
