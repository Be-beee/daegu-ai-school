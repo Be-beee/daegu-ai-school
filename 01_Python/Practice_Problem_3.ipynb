{
 "cells": [
  {
   "cell_type": "markdown",
   "id": "294a876f",
   "metadata": {},
   "source": [
    "# Class 연습 문제"
   ]
  },
  {
   "cell_type": "code",
   "execution_count": 1,
   "id": "8628265b",
   "metadata": {},
   "outputs": [],
   "source": [
    "## 1."
   ]
  },
  {
   "cell_type": "code",
   "execution_count": 2,
   "id": "9ceb2f5f",
   "metadata": {},
   "outputs": [
    {
     "name": "stdout",
     "output_type": "stream",
     "text": [
      "짝수\n"
     ]
    }
   ],
   "source": [
    "def is_odd(n):\n",
    "    if n % 2 == 0:\n",
    "        return \"짝수\"\n",
    "    else:\n",
    "        return \"홀수\"\n",
    "print(is_odd(110))"
   ]
  },
  {
   "cell_type": "code",
   "execution_count": 3,
   "id": "991b2dd0",
   "metadata": {},
   "outputs": [],
   "source": [
    "## 2."
   ]
  },
  {
   "cell_type": "code",
   "execution_count": 4,
   "id": "8e5a3738",
   "metadata": {},
   "outputs": [
    {
     "name": "stdout",
     "output_type": "stream",
     "text": [
      "9.0\n"
     ]
    }
   ],
   "source": [
    "def is_average(*args):\n",
    "    avg = 0\n",
    "    for i in args:\n",
    "        avg += i\n",
    "    avg /= len(args)\n",
    "    return avg\n",
    "print(is_average(10,9,8))"
   ]
  },
  {
   "cell_type": "code",
   "execution_count": 5,
   "id": "62da8d59",
   "metadata": {},
   "outputs": [],
   "source": [
    "## 3."
   ]
  },
  {
   "cell_type": "code",
   "execution_count": 6,
   "id": "26ac25de",
   "metadata": {},
   "outputs": [
    {
     "name": "stdout",
     "output_type": "stream",
     "text": [
      "3.0\n"
     ]
    }
   ],
   "source": [
    "class Calculator:\n",
    "    def __init__(self):\n",
    "        self.value = 0\n",
    "    def add(self, val):\n",
    "        self.value += val\n",
    "\n",
    "class UpgradeCaculator(Calculator):\n",
    "    def sub(self, val):\n",
    "        self.value -= val\n",
    "        \n",
    "    def mul(self, val):\n",
    "        self.value *= val\n",
    "        \n",
    "    def div(self, val):\n",
    "        self.value /= val\n",
    "        \n",
    "a = UpgradeCaculator()\n",
    "a.add(15)\n",
    "a.sub(3)\n",
    "a.mul(3)\n",
    "a.div(12)\n",
    "\n",
    "print(a.value)"
   ]
  },
  {
   "cell_type": "code",
   "execution_count": 7,
   "id": "b504ac83",
   "metadata": {},
   "outputs": [],
   "source": [
    "# 4."
   ]
  },
  {
   "cell_type": "code",
   "execution_count": 8,
   "id": "52c6e247",
   "metadata": {},
   "outputs": [
    {
     "name": "stdout",
     "output_type": "stream",
     "text": [
      "100\n"
     ]
    }
   ],
   "source": [
    "class MaxLimitCalculator(Calculator):\n",
    "    def add(self, val):\n",
    "        self.value += val\n",
    "        if self.value >= 100:\n",
    "            self.value = 100\n",
    "            \n",
    "cal = MaxLimitCalculator()\n",
    "cal.add(70)\n",
    "cal.add(60)\n",
    "print(cal.value)"
   ]
  },
  {
   "cell_type": "code",
   "execution_count": 9,
   "id": "46b6978b",
   "metadata": {},
   "outputs": [],
   "source": [
    "# 5."
   ]
  },
  {
   "cell_type": "code",
   "execution_count": 10,
   "id": "357aac53",
   "metadata": {},
   "outputs": [
    {
     "name": "stdout",
     "output_type": "stream",
     "text": [
      "점수: 80, 90, 100\n",
      "결과: 국어, 영어, 수학의 총점: 270\n"
     ]
    }
   ],
   "source": [
    "def get_total_score():\n",
    "    a, b, c = input(\"점수: \").split(', ')\n",
    "    total = int(a) + int(b) + int(c)\n",
    "    return \"결과: 국어, 영어, 수학의 총점: \"+ str(total)\n",
    "result = get_total_score()\n",
    "print(result)"
   ]
  },
  {
   "cell_type": "code",
   "execution_count": 11,
   "id": "9f208abc",
   "metadata": {},
   "outputs": [],
   "source": [
    "# 6."
   ]
  },
  {
   "cell_type": "code",
   "execution_count": 12,
   "id": "d6a48728",
   "metadata": {},
   "outputs": [
    {
     "name": "stdout",
     "output_type": "stream",
     "text": [
      "이름: 홍길동\n",
      "이름: 이순신, 전공: 컴퓨터\n"
     ]
    }
   ],
   "source": [
    "class Student:\n",
    "    def __init__(self, name):\n",
    "        self.name = name\n",
    "    \n",
    "    def profile(self):\n",
    "        return \"이름: \" + self.name\n",
    "        \n",
    "        \n",
    "class GraduateStudent(Student):\n",
    "    def __init__(self, name, major):\n",
    "        self.name = name\n",
    "        self.major = major\n",
    "    \n",
    "    def profile(self):\n",
    "        return super().profile() + \", 전공: \" + self.major\n",
    "        \n",
    "s1 = Student(\"홍길동\")\n",
    "s2 = GraduateStudent(\"이순신\", \"컴퓨터\")\n",
    "print(s1.profile())\n",
    "print(s2.profile())"
   ]
  },
  {
   "cell_type": "code",
   "execution_count": 13,
   "id": "9fe54b85",
   "metadata": {},
   "outputs": [],
   "source": [
    "# 7."
   ]
  },
  {
   "cell_type": "code",
   "execution_count": 14,
   "id": "2ea6b447",
   "metadata": {},
   "outputs": [
    {
     "name": "stdout",
     "output_type": "stream",
     "text": [
      "100\n"
     ]
    }
   ],
   "source": [
    "class Shape:\n",
    "    def __init__(self, length):\n",
    "        self.length = length\n",
    "    \n",
    "class Square(Shape):\n",
    "    def area(self):\n",
    "        return self.length * self.length\n",
    "\n",
    "sq = Square(10)\n",
    "print(sq.area())"
   ]
  },
  {
   "cell_type": "code",
   "execution_count": 15,
   "id": "12f53b90",
   "metadata": {},
   "outputs": [],
   "source": [
    "# 8."
   ]
  },
  {
   "cell_type": "code",
   "execution_count": 16,
   "id": "b14e700f",
   "metadata": {},
   "outputs": [
    {
     "name": "stdout",
     "output_type": "stream",
     "text": [
      "Unknown\n",
      "Male\n",
      "Female\n"
     ]
    }
   ],
   "source": [
    "class Person:\n",
    "    def getGender(self):\n",
    "        return \"Unknown\"\n",
    "    \n",
    "    \n",
    "class Male(Person):\n",
    "    def getGender(self):\n",
    "        return \"Male\"\n",
    "    \n",
    "class Female(Person):\n",
    "    def getGender(self):\n",
    "        return \"Female\"\n",
    "    \n",
    "    \n",
    "p = Person()\n",
    "print(p.getGender())\n",
    "\n",
    "m = Male()\n",
    "print(m.getGender())\n",
    "\n",
    "f = Female()\n",
    "print(f.getGender())\n",
    "    "
   ]
  },
  {
   "cell_type": "code",
   "execution_count": 17,
   "id": "1db03a13",
   "metadata": {},
   "outputs": [],
   "source": [
    "# 9."
   ]
  },
  {
   "cell_type": "code",
   "execution_count": 18,
   "id": "9e40c5ed",
   "metadata": {},
   "outputs": [
    {
     "name": "stdout",
     "output_type": "stream",
     "text": [
      "사용자 1: 가위\n",
      "사용자 2: 보\n",
      "사용자 1\n"
     ]
    }
   ],
   "source": [
    "a = input(\"사용자 1: \")\n",
    "b = input(\"사용자 2: \")\n",
    "\n",
    "def rock_paper_scissor(a, b):\n",
    "    rps = [\n",
    "        [0, 1, -1],\n",
    "        [-1, 0, 1],\n",
    "        [1, -1, 0]\n",
    "    ]\n",
    "    \n",
    "    user1 = 0\n",
    "    user2 = 0\n",
    "    \n",
    "    if a == \"가위\":\n",
    "        user1 = 0\n",
    "    elif a == \"바위\":\n",
    "        user1 = 1\n",
    "    else:\n",
    "        user1 = 2\n",
    "        \n",
    "    if b == \"가위\":\n",
    "        user2 = 0\n",
    "    elif b == \"바위\":\n",
    "        user2 = 1\n",
    "    else:\n",
    "        user2 = 2 \n",
    "    \n",
    "    if rps[user2][user1] == 0:\n",
    "        return \"None\"\n",
    "    elif rps[user2][user1] == 1:\n",
    "        return \"사용자 1\"\n",
    "    else:\n",
    "        return \"사용자 2\"\n",
    "    \n",
    "result = rock_paper_scissor(a, b)\n",
    "print(result)"
   ]
  },
  {
   "cell_type": "code",
   "execution_count": 19,
   "id": "a9a798c9",
   "metadata": {},
   "outputs": [],
   "source": [
    "# 10."
   ]
  },
  {
   "cell_type": "code",
   "execution_count": 20,
   "id": "c6f009d6",
   "metadata": {},
   "outputs": [
    {
     "name": "stdout",
     "output_type": "stream",
     "text": [
      "input : 10\n",
      "[1, 1, 2, 3, 5, 8, 13, 21, 34, 55]\n"
     ]
    }
   ],
   "source": [
    "def fibonacci(n):\n",
    "    if n == 0 or n == 1:\n",
    "        return 1\n",
    "    return fibonacci(n-1) + fibonacci(n-2)\n",
    "\n",
    "num = int(input(\"input : \"))\n",
    "result = [fibonacci(n) for n in range(num)]\n",
    "print(result)"
   ]
  },
  {
   "cell_type": "code",
   "execution_count": null,
   "id": "1419321b",
   "metadata": {},
   "outputs": [],
   "source": []
  }
 ],
 "metadata": {
  "kernelspec": {
   "display_name": "Python 3",
   "language": "python",
   "name": "python3"
  },
  "language_info": {
   "codemirror_mode": {
    "name": "ipython",
    "version": 3
   },
   "file_extension": ".py",
   "mimetype": "text/x-python",
   "name": "python",
   "nbconvert_exporter": "python",
   "pygments_lexer": "ipython3",
   "version": "3.8.8"
  }
 },
 "nbformat": 4,
 "nbformat_minor": 5
}
