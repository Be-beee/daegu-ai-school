{
 "cells": [
  {
   "cell_type": "markdown",
   "id": "52ac1d9d",
   "metadata": {},
   "source": [
    "# 연습문제"
   ]
  },
  {
   "cell_type": "markdown",
   "id": "05e07eef",
   "metadata": {},
   "source": [
    "## 1. 문자열"
   ]
  },
  {
   "cell_type": "code",
   "execution_count": 1,
   "id": "4fb18f55",
   "metadata": {},
   "outputs": [
    {
     "name": "stdout",
     "output_type": "stream",
     "text": [
      "YYYYMMDD: 20000101\n",
      "Gender: Male\n"
     ]
    }
   ],
   "source": [
    "identifier = '000101-3682746'\n",
    "print('YYYYMMDD: ' + '20' + identifier[:6])\n",
    "if int(identifier[7]) == 3:\n",
    "    print('Gender: Male')\n",
    "else:\n",
    "    print('Gender: Female')"
   ]
  },
  {
   "cell_type": "markdown",
   "id": "db7c9ee7",
   "metadata": {},
   "source": [
    "## 2. replace"
   ]
  },
  {
   "cell_type": "code",
   "execution_count": 2,
   "id": "b8ad8636",
   "metadata": {},
   "outputs": [
    {
     "data": {
      "text/plain": [
       "'a_b_c_d'"
      ]
     },
     "execution_count": 2,
     "metadata": {},
     "output_type": "execute_result"
    }
   ],
   "source": [
    "a = 'a:b:c:d'\n",
    "a.replace(':', '_')"
   ]
  },
  {
   "cell_type": "markdown",
   "id": "3874e7a5",
   "metadata": {},
   "source": [
    "## 3. 내림차순 정렬"
   ]
  },
  {
   "cell_type": "code",
   "execution_count": 3,
   "id": "198cadc7",
   "metadata": {},
   "outputs": [
    {
     "name": "stdout",
     "output_type": "stream",
     "text": [
      "[5, 4, 3, 2, 1]\n"
     ]
    }
   ],
   "source": [
    "arr = [1, 3, 5, 4, 2]\n",
    "arr.sort(reverse=True)\n",
    "print(arr)"
   ]
  },
  {
   "cell_type": "markdown",
   "id": "73c62cae",
   "metadata": {},
   "source": [
    "## 4. 중복 숫자 제거"
   ]
  },
  {
   "cell_type": "code",
   "execution_count": 4,
   "id": "3d487580",
   "metadata": {},
   "outputs": [
    {
     "name": "stdout",
     "output_type": "stream",
     "text": [
      "[1, 2, 3, 4, 5]\n"
     ]
    }
   ],
   "source": [
    "li = [1, 2, 2, 1, 3, 4, 4, 4, 5]\n",
    "result = list(set(li))\n",
    "print(result)"
   ]
  },
  {
   "cell_type": "markdown",
   "id": "a0d563e2",
   "metadata": {},
   "source": [
    "## 5. 딕셔너리 작성 및 평균 구하기"
   ]
  },
  {
   "cell_type": "code",
   "execution_count": 5,
   "id": "fe3f51e0",
   "metadata": {},
   "outputs": [
    {
     "name": "stdout",
     "output_type": "stream",
     "text": [
      "85.0\n"
     ]
    }
   ],
   "source": [
    "dic1 = {'English': 75, 'Math': 95, 'Science': 85}\n",
    "total = (dic1['English'] + dic1['Math'] + dic1['Science']) / len(dic1)\n",
    "print(total)"
   ]
  },
  {
   "cell_type": "code",
   "execution_count": 6,
   "id": "d274f03c",
   "metadata": {},
   "outputs": [
    {
     "name": "stdout",
     "output_type": "stream",
     "text": [
      "현재 순위 2위 영화: 발신제한\n"
     ]
    }
   ],
   "source": [
    "rank = ['루카', '발신제한', '분노의 질주']\n",
    "indexing = 1\n",
    "# for i, v in enumerate(rank):\n",
    "#     print('현재 순위 {}위 영화: {}'.format(i+1, v))\n",
    "print(f'현재 순위 {indexing+1}위 영화: {rank[indexing]}')"
   ]
  },
  {
   "cell_type": "markdown",
   "id": "7cb06e58",
   "metadata": {},
   "source": [
    "## 6. 딕셔너리와 리스트"
   ]
  },
  {
   "cell_type": "code",
   "execution_count": 7,
   "id": "7094c6f8",
   "metadata": {},
   "outputs": [],
   "source": [
    "rankInfo = [\n",
    "    {'title': '루카', 'booking_rate': 32.2, 'score': 4.3},\n",
    "    {'title': '발신제한', 'booking_rate': 13.3, 'score': 3.4},\n",
    "    {'title': '분노의 질주', 'booking_rate': 9.2, 'score': 4.8},\n",
    "]\n",
    "\n",
    "movies = [\n",
    "    {\"루카\": {\"순위\": 1, \"예매율\": 32.2, \"평점\": 4.3}},\n",
    "    {\"발신제한\": {\"순위\": 2, \"예매율\": 13.3, \"평점\": 3.4}},\n",
    "    {\"분노의 질주\": {\"순위\": 3, \"예매율\": 9.2, \"평점\": 4.8}}\n",
    "]"
   ]
  },
  {
   "cell_type": "code",
   "execution_count": 8,
   "id": "31b21896",
   "metadata": {},
   "outputs": [
    {
     "name": "stdout",
     "output_type": "stream",
     "text": [
      "영화 분노의 질주는 현재 3위이고 예매율 9.2, 평점 4.8이다.\n",
      "1위 루카와 예매율 차이는 23% 이고 평점 차는 -0.5 이다.\n",
      "--------------------------------------------------\n",
      "영화 분노의 질주는 현재 3위이고 예매율 9.2, 평점 4.8이다.\n",
      "1위 루카와 예매율 차이는 23% 이고 평점 차는 -0.5 이다.\n"
     ]
    }
   ],
   "source": [
    "index = 0\n",
    "three = 2\n",
    "print('영화 {}는 현재 {}위이고 예매율 {}, 평점 {}이다.'.format(rankInfo[three]['title'], three+1, \n",
    "                                                rankInfo[three]['booking_rate'], rankInfo[three]['score']))\n",
    "\n",
    "print('{}위 {}와 예매율 차이는 {}% 이고 평점 차는 {} 이다.'.format(index+1, rankInfo[index]['title'],\n",
    "                                                   int(rankInfo[index]['booking_rate'] - rankInfo[three]['booking_rate']),\n",
    "                                                   rankInfo[index]['score'] - rankInfo[three]['score']))\n",
    "\n",
    "\n",
    "print('-'*50)\n",
    "print('영화 {}는 현재 {}위이고 예매율 {}, 평점 {}이다.'.format(list(movies[three].keys())[0], three+1, \n",
    "                                                movies[three]['분노의 질주']['예매율'], movies[three]['분노의 질주']['평점']))\n",
    "\n",
    "print('{}위 {}와 예매율 차이는 {}% 이고 평점 차는 {} 이다.'.format(index+1, list(movies[index].keys())[0],\n",
    "                                                   int(movies[index]['루카']['예매율'] - movies[three]['분노의 질주']['예매율']),\n",
    "                                                   movies[index]['루카']['평점'] - movies[three]['분노의 질주']['평점']))"
   ]
  },
  {
   "cell_type": "code",
   "execution_count": 9,
   "id": "e3c70ea0",
   "metadata": {},
   "outputs": [
    {
     "name": "stdout",
     "output_type": "stream",
     "text": [
      "영화 분노의 질주는 현재 3위 입니다.\n"
     ]
    }
   ],
   "source": [
    "print('영화 '+ list(movies[three].keys())[0] + '는 현재 ' + str(three+1) + '위 입니다.')"
   ]
  }
 ],
 "metadata": {
  "kernelspec": {
   "display_name": "Python 3",
   "language": "python",
   "name": "python3"
  },
  "language_info": {
   "codemirror_mode": {
    "name": "ipython",
    "version": 3
   },
   "file_extension": ".py",
   "mimetype": "text/x-python",
   "name": "python",
   "nbconvert_exporter": "python",
   "pygments_lexer": "ipython3",
   "version": "3.8.8"
  }
 },
 "nbformat": 4,
 "nbformat_minor": 5
}
