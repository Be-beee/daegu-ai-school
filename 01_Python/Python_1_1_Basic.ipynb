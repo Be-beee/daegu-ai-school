{
 "cells": [
  {
   "cell_type": "code",
   "execution_count": 1,
   "id": "4665b961",
   "metadata": {},
   "outputs": [
    {
     "name": "stdout",
     "output_type": "stream",
     "text": [
      "Hello world!\n"
     ]
    }
   ],
   "source": [
    "print(\"Hello world!\")"
   ]
  },
  {
   "cell_type": "code",
   "execution_count": 2,
   "id": "e3f2075a",
   "metadata": {},
   "outputs": [
    {
     "name": "stdout",
     "output_type": "stream",
     "text": [
      "<class 'int'>\n",
      "<class 'float'>\n",
      "<class 'int'>\n"
     ]
    }
   ],
   "source": [
    "a = 123\n",
    "b = -345.0\n",
    "c = 5\n",
    "\n",
    "print(type(a))\n",
    "print(type(b))\n",
    "print(type(c))"
   ]
  },
  {
   "cell_type": "code",
   "execution_count": 3,
   "id": "5ac2bfeb",
   "metadata": {},
   "outputs": [
    {
     "name": "stdout",
     "output_type": "stream",
     "text": [
      "10\n",
      "25\n",
      "1\n",
      "2\n"
     ]
    }
   ],
   "source": [
    "a = 5\n",
    "b = 2\n",
    "print(a * b)\n",
    "print(a ** b)\n",
    "print(a % b)\n",
    "print(a // b)"
   ]
  },
  {
   "cell_type": "code",
   "execution_count": 4,
   "id": "19805494",
   "metadata": {},
   "outputs": [
    {
     "name": "stdout",
     "output_type": "stream",
     "text": [
      "I'm happy because of python~~~~~~~~~~~~~\n"
     ]
    }
   ],
   "source": [
    "kimchi = \"My favorite food is kimchi.\"\n",
    "py = 'I\\'m happy because of python~~~~~~~~~~~~~'\n",
    "print(py)"
   ]
  },
  {
   "cell_type": "code",
   "execution_count": 5,
   "id": "fbb5e9fd",
   "metadata": {},
   "outputs": [
    {
     "data": {
      "text/plain": [
       "'Python is very easy.'"
      ]
     },
     "execution_count": 5,
     "metadata": {},
     "output_type": "execute_result"
    }
   ],
   "source": [
    "a = \"Python\"\n",
    "b = \" is very easy.\"\n",
    "a + b"
   ]
  },
  {
   "cell_type": "code",
   "execution_count": 6,
   "id": "284394ce",
   "metadata": {},
   "outputs": [
    {
     "data": {
      "text/plain": [
       "'=================================================='"
      ]
     },
     "execution_count": 6,
     "metadata": {},
     "output_type": "execute_result"
    }
   ],
   "source": [
    "a = \"=\" * 50\n",
    "a"
   ]
  },
  {
   "cell_type": "code",
   "execution_count": 7,
   "id": "738c97a5",
   "metadata": {},
   "outputs": [
    {
     "name": "stdout",
     "output_type": "stream",
     "text": [
      "==================================================\n",
      "My Program\n",
      "==================================================\n"
     ]
    }
   ],
   "source": [
    "b = \"My Program\"\n",
    "print(a + '\\n' + b + '\\n' + a)"
   ]
  },
  {
   "cell_type": "code",
   "execution_count": 8,
   "id": "2d171ee7",
   "metadata": {},
   "outputs": [],
   "source": [
    "# 문자열 인덱싱"
   ]
  },
  {
   "cell_type": "code",
   "execution_count": 9,
   "id": "f20fc35a",
   "metadata": {},
   "outputs": [
    {
     "data": {
      "text/plain": [
       "'P'"
      ]
     },
     "execution_count": 9,
     "metadata": {},
     "output_type": "execute_result"
    }
   ],
   "source": [
    "a = \"Python is very easy.\"\n",
    "a[0]"
   ]
  },
  {
   "cell_type": "code",
   "execution_count": 10,
   "id": "262165a8",
   "metadata": {},
   "outputs": [
    {
     "data": {
      "text/plain": [
       "'i'"
      ]
     },
     "execution_count": 10,
     "metadata": {},
     "output_type": "execute_result"
    }
   ],
   "source": [
    "a[7]"
   ]
  },
  {
   "cell_type": "code",
   "execution_count": 11,
   "id": "5fd02557",
   "metadata": {},
   "outputs": [
    {
     "data": {
      "text/plain": [
       "'ver '"
      ]
     },
     "execution_count": 11,
     "metadata": {},
     "output_type": "execute_result"
    }
   ],
   "source": [
    "b = a[10] + a[11] + a[12] + a[14]\n",
    "b"
   ]
  },
  {
   "cell_type": "code",
   "execution_count": 12,
   "id": "058d23ee",
   "metadata": {},
   "outputs": [
    {
     "data": {
      "text/plain": [
       "'very '"
      ]
     },
     "execution_count": 12,
     "metadata": {},
     "output_type": "execute_result"
    }
   ],
   "source": [
    "b = a[10:15]\n",
    "b"
   ]
  },
  {
   "cell_type": "code",
   "execution_count": 13,
   "id": "514e0d12",
   "metadata": {},
   "outputs": [
    {
     "data": {
      "text/plain": [
       "'very easy.'"
      ]
     },
     "execution_count": 13,
     "metadata": {},
     "output_type": "execute_result"
    }
   ],
   "source": [
    "b = a[10:]\n",
    "b"
   ]
  },
  {
   "cell_type": "code",
   "execution_count": 14,
   "id": "1a60aad4",
   "metadata": {},
   "outputs": [],
   "source": [
    "a = \"Pithon\""
   ]
  },
  {
   "cell_type": "code",
   "execution_count": 15,
   "id": "898913ae",
   "metadata": {},
   "outputs": [
    {
     "data": {
      "text/plain": [
       "'Python'"
      ]
     },
     "execution_count": 15,
     "metadata": {},
     "output_type": "execute_result"
    }
   ],
   "source": [
    "a[:1] + \"y\" + a[2:] # 문자열의 일부 요소를 바꿀 수 없음"
   ]
  },
  {
   "cell_type": "code",
   "execution_count": 16,
   "id": "c7eaab24",
   "metadata": {},
   "outputs": [],
   "source": [
    "number = 2\n",
    "banana = \"I eat %d banana.\" % number"
   ]
  },
  {
   "cell_type": "code",
   "execution_count": 17,
   "id": "32b09135",
   "metadata": {},
   "outputs": [
    {
     "data": {
      "text/plain": [
       "'I eat 2 banana.'"
      ]
     },
     "execution_count": 17,
     "metadata": {},
     "output_type": "execute_result"
    }
   ],
   "source": [
    "banana"
   ]
  },
  {
   "cell_type": "code",
   "execution_count": 18,
   "id": "abac6513",
   "metadata": {},
   "outputs": [
    {
     "data": {
      "text/plain": [
       "'I ate 12 banana two day'"
      ]
     },
     "execution_count": 18,
     "metadata": {},
     "output_type": "execute_result"
    }
   ],
   "source": [
    "number = 12\n",
    "day = \"two\"\n",
    "\n",
    "\"I ate %d banana %s day\" % (number, day)"
   ]
  },
  {
   "cell_type": "code",
   "execution_count": 19,
   "id": "7318b96b",
   "metadata": {},
   "outputs": [
    {
     "data": {
      "text/plain": [
       "'aksdfsdf a 3.2'"
      ]
     },
     "execution_count": 19,
     "metadata": {},
     "output_type": "execute_result"
    }
   ],
   "source": [
    "\"aksdfsdf a %s\" % 3.2"
   ]
  },
  {
   "cell_type": "code",
   "execution_count": 20,
   "id": "2260621a",
   "metadata": {},
   "outputs": [
    {
     "data": {
      "text/plain": [
       "'Error is 0%.'"
      ]
     },
     "execution_count": 20,
     "metadata": {},
     "output_type": "execute_result"
    }
   ],
   "source": [
    "\"Error is %d%%.\" % 0"
   ]
  },
  {
   "cell_type": "code",
   "execution_count": 21,
   "id": "bd205b16",
   "metadata": {},
   "outputs": [
    {
     "data": {
      "text/plain": [
       "'     apple'"
      ]
     },
     "execution_count": 21,
     "metadata": {},
     "output_type": "execute_result"
    }
   ],
   "source": [
    "\"%10s\" % \"apple\" # 숫자 -> 여백"
   ]
  },
  {
   "cell_type": "code",
   "execution_count": 22,
   "id": "3cd899ad",
   "metadata": {},
   "outputs": [
    {
     "data": {
      "text/plain": [
       "'apple     '"
      ]
     },
     "execution_count": 22,
     "metadata": {},
     "output_type": "execute_result"
    }
   ],
   "source": [
    "\"%-10s\" % \"apple\""
   ]
  },
  {
   "cell_type": "code",
   "execution_count": 23,
   "id": "d0c2474b",
   "metadata": {},
   "outputs": [
    {
     "data": {
      "text/plain": [
       "'I eat 100 banana yesterday'"
      ]
     },
     "execution_count": 23,
     "metadata": {},
     "output_type": "execute_result"
    }
   ],
   "source": [
    "\"I eat {} banana {}\".format(100, \"yesterday\")"
   ]
  },
  {
   "cell_type": "code",
   "execution_count": 24,
   "id": "67631197",
   "metadata": {},
   "outputs": [
    {
     "data": {
      "text/plain": [
       "'I 12 banana two dw'"
      ]
     },
     "execution_count": 24,
     "metadata": {},
     "output_type": "execute_result"
    }
   ],
   "source": [
    "\"I {} banana {} dw\".format(number, day)"
   ]
  },
  {
   "cell_type": "code",
   "execution_count": 25,
   "id": "a552337f",
   "metadata": {},
   "outputs": [
    {
     "data": {
      "text/plain": [
       "'hi        '"
      ]
     },
     "execution_count": 25,
     "metadata": {},
     "output_type": "execute_result"
    }
   ],
   "source": [
    "\"{0:<10}\".format(\"hi\") # 왼쪽 정렬"
   ]
  },
  {
   "cell_type": "code",
   "execution_count": 26,
   "id": "63abd9b9",
   "metadata": {},
   "outputs": [
    {
     "data": {
      "text/plain": [
       "'        hi'"
      ]
     },
     "execution_count": 26,
     "metadata": {},
     "output_type": "execute_result"
    }
   ],
   "source": [
    "\"{0:>10}\".format(\"hi\") # 오른쪽 정렬"
   ]
  },
  {
   "cell_type": "code",
   "execution_count": 27,
   "id": "41f5c7d3",
   "metadata": {},
   "outputs": [
    {
     "data": {
      "text/plain": [
       "'    hi    '"
      ]
     },
     "execution_count": 27,
     "metadata": {},
     "output_type": "execute_result"
    }
   ],
   "source": [
    "\"{0:^10}\".format(\"hi\") # 가운데 정렬"
   ]
  },
  {
   "cell_type": "code",
   "execution_count": 28,
   "id": "3dc970bb",
   "metadata": {},
   "outputs": [],
   "source": [
    "# f를 사용한 문자열 포매팅"
   ]
  },
  {
   "cell_type": "code",
   "execution_count": 29,
   "id": "366c89a6",
   "metadata": {},
   "outputs": [
    {
     "data": {
      "text/plain": [
       "'I ate 12 banana two days'"
      ]
     },
     "execution_count": 29,
     "metadata": {},
     "output_type": "execute_result"
    }
   ],
   "source": [
    "number = 12\n",
    "day = \"two\"\n",
    "f\"I ate {number} banana {day} days\""
   ]
  },
  {
   "cell_type": "code",
   "execution_count": 30,
   "id": "7070971a",
   "metadata": {},
   "outputs": [],
   "source": [
    "# 문자열 함수"
   ]
  },
  {
   "cell_type": "code",
   "execution_count": 31,
   "id": "ffc71fa4",
   "metadata": {},
   "outputs": [
    {
     "data": {
      "text/plain": [
       "2"
      ]
     },
     "execution_count": 31,
     "metadata": {},
     "output_type": "execute_result"
    }
   ],
   "source": [
    "a = \"apple\"\n",
    "a.count('p')"
   ]
  },
  {
   "cell_type": "code",
   "execution_count": 32,
   "id": "9a270a9b",
   "metadata": {},
   "outputs": [
    {
     "data": {
      "text/plain": [
       "1"
      ]
     },
     "execution_count": 32,
     "metadata": {},
     "output_type": "execute_result"
    }
   ],
   "source": [
    "a.find('p')"
   ]
  },
  {
   "cell_type": "code",
   "execution_count": 33,
   "id": "ce7f514e",
   "metadata": {},
   "outputs": [
    {
     "data": {
      "text/plain": [
       "'a,b,c,d'"
      ]
     },
     "execution_count": 33,
     "metadata": {},
     "output_type": "execute_result"
    }
   ],
   "source": [
    "\",\".join('abcd')"
   ]
  },
  {
   "cell_type": "code",
   "execution_count": 34,
   "id": "a383a59b",
   "metadata": {},
   "outputs": [
    {
     "data": {
      "text/plain": [
       "'HI'"
      ]
     },
     "execution_count": 34,
     "metadata": {},
     "output_type": "execute_result"
    }
   ],
   "source": [
    "a = \"hi\"\n",
    "a.upper()"
   ]
  },
  {
   "cell_type": "code",
   "execution_count": 35,
   "id": "6b2912b6",
   "metadata": {},
   "outputs": [
    {
     "data": {
      "text/plain": [
       "'hi'"
      ]
     },
     "execution_count": 35,
     "metadata": {},
     "output_type": "execute_result"
    }
   ],
   "source": [
    "a.lower() # 사용자 계정"
   ]
  },
  {
   "cell_type": "code",
   "execution_count": 36,
   "id": "f51fd151",
   "metadata": {},
   "outputs": [
    {
     "data": {
      "text/plain": [
       "'hi'"
      ]
     },
     "execution_count": 36,
     "metadata": {},
     "output_type": "execute_result"
    }
   ],
   "source": [
    "a.rstrip()"
   ]
  },
  {
   "cell_type": "code",
   "execution_count": 37,
   "id": "7e2e7e72",
   "metadata": {},
   "outputs": [],
   "source": [
    "b = \" How are you? \""
   ]
  },
  {
   "cell_type": "code",
   "execution_count": 38,
   "id": "787099a8",
   "metadata": {},
   "outputs": [
    {
     "data": {
      "text/plain": [
       "'How are you?'"
      ]
     },
     "execution_count": 38,
     "metadata": {},
     "output_type": "execute_result"
    }
   ],
   "source": [
    "b.strip()"
   ]
  },
  {
   "cell_type": "code",
   "execution_count": 39,
   "id": "e542e33f",
   "metadata": {},
   "outputs": [
    {
     "data": {
      "text/plain": [
       "'Python'"
      ]
     },
     "execution_count": 39,
     "metadata": {},
     "output_type": "execute_result"
    }
   ],
   "source": [
    "a = \"Pithon\"\n",
    "b = a.replace(\"i\", \"y\")\n",
    "b"
   ]
  },
  {
   "cell_type": "code",
   "execution_count": 40,
   "id": "3775057a",
   "metadata": {},
   "outputs": [],
   "source": [
    "b = \"How are you?\""
   ]
  },
  {
   "cell_type": "code",
   "execution_count": 41,
   "id": "dd9baa3e",
   "metadata": {},
   "outputs": [
    {
     "data": {
      "text/plain": [
       "['How', 'are', 'you?']"
      ]
     },
     "execution_count": 41,
     "metadata": {},
     "output_type": "execute_result"
    }
   ],
   "source": [
    "b.split()"
   ]
  },
  {
   "cell_type": "code",
   "execution_count": 42,
   "id": "41ef7956",
   "metadata": {},
   "outputs": [
    {
     "data": {
      "text/plain": [
       "'How are you?'"
      ]
     },
     "execution_count": 42,
     "metadata": {},
     "output_type": "execute_result"
    }
   ],
   "source": [
    "b[:]"
   ]
  },
  {
   "cell_type": "code",
   "execution_count": 43,
   "id": "480dc70c",
   "metadata": {},
   "outputs": [
    {
     "data": {
      "text/plain": [
       "1"
      ]
     },
     "execution_count": 43,
     "metadata": {},
     "output_type": "execute_result"
    }
   ],
   "source": [
    "data = [1, 2, 3, 4, 5]\n",
    "data[0]"
   ]
  },
  {
   "cell_type": "code",
   "execution_count": 44,
   "id": "4013e1dd",
   "metadata": {},
   "outputs": [],
   "source": [
    "c = ['bift', 'dasidfkd']\n",
    "d = [1, 2, 3, 'dkfdjf', [23, 'sddf']]"
   ]
  },
  {
   "cell_type": "code",
   "execution_count": 45,
   "id": "90be4792",
   "metadata": {},
   "outputs": [
    {
     "data": {
      "text/plain": [
       "6"
      ]
     },
     "execution_count": 45,
     "metadata": {},
     "output_type": "execute_result"
    }
   ],
   "source": [
    "data[0] + data[4]"
   ]
  },
  {
   "cell_type": "code",
   "execution_count": 46,
   "id": "1fd7da0e",
   "metadata": {},
   "outputs": [
    {
     "data": {
      "text/plain": [
       "[1, 8, 2, 3, 4]"
      ]
     },
     "execution_count": 46,
     "metadata": {},
     "output_type": "execute_result"
    }
   ],
   "source": [
    "a = [1, 2, 3]\n",
    "a.insert(3, 4)\n",
    "a.insert(1, 8)\n",
    "a"
   ]
  },
  {
   "cell_type": "code",
   "execution_count": 47,
   "id": "73c3e3c2",
   "metadata": {},
   "outputs": [
    {
     "data": {
      "text/plain": [
       "[1, 2, 1, 2, 3]"
      ]
     },
     "execution_count": 47,
     "metadata": {},
     "output_type": "execute_result"
    }
   ],
   "source": [
    "a = [1, 2, 3, 1, 2, 3]\n",
    "a.remove(3) # 요소 하나만 삭제\n",
    "a"
   ]
  },
  {
   "cell_type": "code",
   "execution_count": 48,
   "id": "a5f0ee84",
   "metadata": {},
   "outputs": [
    {
     "name": "stdout",
     "output_type": "stream",
     "text": [
      "[1, 2]\n",
      "3\n"
     ]
    }
   ],
   "source": [
    "a = [1, 2 ,3]\n",
    "b = a.pop()\n",
    "print(a)\n",
    "print(b)"
   ]
  },
  {
   "cell_type": "code",
   "execution_count": 49,
   "id": "e4130e52",
   "metadata": {},
   "outputs": [
    {
     "data": {
      "text/plain": [
       "1"
      ]
     },
     "execution_count": 49,
     "metadata": {},
     "output_type": "execute_result"
    }
   ],
   "source": [
    "a.count(1)"
   ]
  },
  {
   "cell_type": "code",
   "execution_count": 50,
   "id": "2192d511",
   "metadata": {},
   "outputs": [],
   "source": [
    "# Tuple(튜플)\n",
    "# 요소 값이 변하지 않아야 할 때 사용\n",
    "# (1, 2, 3)"
   ]
  },
  {
   "cell_type": "code",
   "execution_count": 51,
   "id": "bccbcb43",
   "metadata": {},
   "outputs": [],
   "source": [
    "t1 = (1, 2, 3)\n",
    "t2 = (1, 2, 3, ('a', 'b'))"
   ]
  },
  {
   "cell_type": "code",
   "execution_count": 52,
   "id": "ba83f2d0",
   "metadata": {},
   "outputs": [],
   "source": [
    "dic = {'name': 'pey', 'phone':'01022223343'}"
   ]
  },
  {
   "cell_type": "code",
   "execution_count": 53,
   "id": "4372da0c",
   "metadata": {},
   "outputs": [
    {
     "data": {
      "text/plain": [
       "{'name': 'pey', 'phone': '01022223343'}"
      ]
     },
     "execution_count": 53,
     "metadata": {},
     "output_type": "execute_result"
    }
   ],
   "source": [
    "dic"
   ]
  },
  {
   "cell_type": "code",
   "execution_count": 54,
   "id": "43b49c34",
   "metadata": {},
   "outputs": [
    {
     "data": {
      "text/plain": [
       "'01022223343'"
      ]
     },
     "execution_count": 54,
     "metadata": {},
     "output_type": "execute_result"
    }
   ],
   "source": [
    "b = dic['phone']\n",
    "b"
   ]
  },
  {
   "cell_type": "code",
   "execution_count": 55,
   "id": "847a024c",
   "metadata": {},
   "outputs": [
    {
     "name": "stdout",
     "output_type": "stream",
     "text": [
      "a\n",
      "3\n",
      "None\n",
      "0\n"
     ]
    }
   ],
   "source": [
    "a = {1:'a', 2:'b', 'name':3, 'list':[1, 2, 3, 4]}\n",
    "print(a.get(1))\n",
    "print(a.get('name'))\n",
    "print(a.get(10))\n",
    "print(a.get(10, 0))"
   ]
  },
  {
   "cell_type": "code",
   "execution_count": 56,
   "id": "bbb4243c",
   "metadata": {},
   "outputs": [
    {
     "data": {
      "text/plain": [
       "False"
      ]
     },
     "execution_count": 56,
     "metadata": {},
     "output_type": "execute_result"
    }
   ],
   "source": [
    "'asdf' in a"
   ]
  },
  {
   "cell_type": "code",
   "execution_count": 57,
   "id": "f27d2f2b",
   "metadata": {},
   "outputs": [
    {
     "data": {
      "text/plain": [
       "True"
      ]
     },
     "execution_count": 57,
     "metadata": {},
     "output_type": "execute_result"
    }
   ],
   "source": [
    "b = [1, 2, 3, 4, 5]\n",
    "3 in b"
   ]
  },
  {
   "cell_type": "code",
   "execution_count": 58,
   "id": "43a1b50e",
   "metadata": {},
   "outputs": [
    {
     "name": "stdout",
     "output_type": "stream",
     "text": [
      "{'o', 'e', 'h', 'l'}\n"
     ]
    }
   ],
   "source": [
    "a = set(\"hello\")\n",
    "print(a)"
   ]
  },
  {
   "cell_type": "code",
   "execution_count": 59,
   "id": "e0008d68",
   "metadata": {},
   "outputs": [],
   "source": [
    "t = tuple(a)"
   ]
  },
  {
   "cell_type": "code",
   "execution_count": 60,
   "id": "6342aa53",
   "metadata": {},
   "outputs": [
    {
     "data": {
      "text/plain": [
       "'o'"
      ]
     },
     "execution_count": 60,
     "metadata": {},
     "output_type": "execute_result"
    }
   ],
   "source": [
    "t[0]"
   ]
  },
  {
   "cell_type": "code",
   "execution_count": 61,
   "id": "5d9a64ff",
   "metadata": {},
   "outputs": [
    {
     "name": "stdout",
     "output_type": "stream",
     "text": [
      "{3, 4}\n",
      "{1, 2}\n",
      "{1, 2, 3, 4, 5, 6}\n"
     ]
    }
   ],
   "source": [
    "a = set([1, 2, 3, 4])\n",
    "b = set([3, 4, 5, 6])\n",
    "print(a & b) # 교집합\n",
    "print(a - b)\n",
    "print(a | b)"
   ]
  },
  {
   "cell_type": "code",
   "execution_count": 62,
   "id": "35b3e36e",
   "metadata": {},
   "outputs": [
    {
     "name": "stdout",
     "output_type": "stream",
     "text": [
      "{1, 2, 3, 4, 7}\n"
     ]
    }
   ],
   "source": [
    "a.add(7)\n",
    "print(a)"
   ]
  },
  {
   "cell_type": "code",
   "execution_count": 63,
   "id": "6781a9b3",
   "metadata": {},
   "outputs": [
    {
     "name": "stdout",
     "output_type": "stream",
     "text": [
      "{1, 2, 3, 4, 5, 6, 7, 8}\n"
     ]
    }
   ],
   "source": [
    "a.update([3, 4, 5, 6, 7, 8])\n",
    "print(a)"
   ]
  },
  {
   "cell_type": "code",
   "execution_count": 64,
   "id": "32d7580b",
   "metadata": {},
   "outputs": [],
   "source": [
    "a = [1, 2, 3]\n",
    "b = a[:]\n",
    "b = a.copy()"
   ]
  },
  {
   "cell_type": "code",
   "execution_count": 65,
   "id": "6d6209f0",
   "metadata": {},
   "outputs": [
    {
     "name": "stdout",
     "output_type": "stream",
     "text": [
      "1\n",
      "2\n"
     ]
    }
   ],
   "source": [
    "a, b = [1, 2]\n",
    "print(a)\n",
    "print(b)"
   ]
  }
 ],
 "metadata": {
  "kernelspec": {
   "display_name": "Python 3",
   "language": "python",
   "name": "python3"
  },
  "language_info": {
   "codemirror_mode": {
    "name": "ipython",
    "version": 3
   },
   "file_extension": ".py",
   "mimetype": "text/x-python",
   "name": "python",
   "nbconvert_exporter": "python",
   "pygments_lexer": "ipython3",
   "version": "3.8.8"
  }
 },
 "nbformat": 4,
 "nbformat_minor": 5
}
