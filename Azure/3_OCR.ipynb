{
 "cells": [
  {
   "cell_type": "markdown",
   "metadata": {},
   "source": [
    "# OCR"
   ]
  },
  {
   "cell_type": "code",
   "execution_count": 1,
   "metadata": {},
   "outputs": [],
   "source": [
    "import requests\n",
    "from io import BytesIO\n",
    "from PIL import Image"
   ]
  },
  {
   "cell_type": "code",
   "execution_count": 2,
   "metadata": {},
   "outputs": [],
   "source": [
    "subscription_key = 'subscription_key'"
   ]
  },
  {
   "cell_type": "code",
   "execution_count": 3,
   "metadata": {},
   "outputs": [],
   "source": [
    "vision_base_url = 'https://daegu0001.cognitiveservices.azure.com/vision/v2.0/'"
   ]
  },
  {
   "cell_type": "code",
   "execution_count": 4,
   "metadata": {},
   "outputs": [],
   "source": [
    "ocr_url = vision_base_url + 'ocr'"
   ]
  },
  {
   "cell_type": "code",
   "execution_count": 5,
   "metadata": {},
   "outputs": [],
   "source": [
    "image_url = 'https://upload.wikimedia.org/wikipedia/commons/thumb/a/af/Atomist_quote_from_Democritus.png/338px-Atomist_quote_from_Democritus.png'"
   ]
  },
  {
   "cell_type": "markdown",
   "metadata": {},
   "source": [
    "![sample](https://upload.wikimedia.org/wikipedia/commons/thumb/a/af/Atomist_quote_from_Democritus.png/338px-Atomist_quote_from_Democritus.png)"
   ]
  },
  {
   "cell_type": "code",
   "execution_count": 7,
   "metadata": {},
   "outputs": [],
   "source": [
    "image = Image.open(BytesIO(requests.get(image_url).content))"
   ]
  },
  {
   "cell_type": "code",
   "execution_count": 9,
   "metadata": {},
   "outputs": [],
   "source": [
    "headers = {'Ocp-Apim-Subscription-Key': subscription_key}\n",
    "params = {\n",
    "    'language': 'unk', # unknown, auto-detect\n",
    "    'detectOrientation': 'true' # 방향 자동 인식\n",
    "}\n",
    "data = {'url': image_url}"
   ]
  },
  {
   "cell_type": "markdown",
   "metadata": {},
   "source": [
    "지원하는 언어목록\n",
    "\n",
    "- unk (AutoDetect)\n",
    "- zh-Hans (ChineseSimplified)\n",
    "- zh-Hant (ChineseTraditional)\n",
    "- cs (Czech)\n",
    "- da (Danish)\n",
    "- nl (Dutch)\n",
    "- en (English)\n",
    "- fi (Finnish)\n",
    "- fr (French)\n",
    "- de (German)\n",
    "- el (Greek)\n",
    "- hu (Hungarian)\n",
    "- it (Italian)\n",
    "- ja (Japanese)\n",
    "- ko (Korean)\n",
    "- nb (Norwegian)\n",
    "- pl (Polish)\n",
    "- pt (Portuguese,\n",
    "- ru (Russian)\n",
    "- es (Spanish)\n",
    "- sv (Swedish)\n",
    "- tr (Turkish)\n",
    "- ar (Arabic)\n",
    "- ro (Romanian)\n",
    "- sr-Cyrl (SerbianCyrillic)\n",
    "- sr-Latn (SerbianLatin)\n",
    "- sk (Slovak)"
   ]
  },
  {
   "cell_type": "code",
   "execution_count": 10,
   "metadata": {},
   "outputs": [],
   "source": [
    "response = requests.post(ocr_url, headers=headers, params=params, json=data)"
   ]
  },
  {
   "cell_type": "code",
   "execution_count": 13,
   "metadata": {},
   "outputs": [],
   "source": [
    "analysis = response.json()"
   ]
  },
  {
   "cell_type": "code",
   "execution_count": 15,
   "metadata": {},
   "outputs": [
    {
     "data": {
      "text/plain": [
       "{'language': 'en',\n",
       " 'textAngle': 0.0,\n",
       " 'orientation': 'Up',\n",
       " 'regions': [{'boundingBox': '21,16,304,451',\n",
       "   'lines': [{'boundingBox': '28,16,288,41',\n",
       "     'words': [{'boundingBox': '28,16,288,41', 'text': 'NOTHING'}]},\n",
       "    {'boundingBox': '27,66,283,52',\n",
       "     'words': [{'boundingBox': '27,66,283,52', 'text': 'EXISTS'}]},\n",
       "    {'boundingBox': '27,128,292,49',\n",
       "     'words': [{'boundingBox': '27,128,292,49', 'text': 'EXCEPT'}]},\n",
       "    {'boundingBox': '24,188,292,54',\n",
       "     'words': [{'boundingBox': '24,188,292,54', 'text': 'ATOMS'}]},\n",
       "    {'boundingBox': '22,253,297,32',\n",
       "     'words': [{'boundingBox': '22,253,105,32', 'text': 'AND'},\n",
       "      {'boundingBox': '144,253,175,32', 'text': 'EMPTY'}]},\n",
       "    {'boundingBox': '21,298,304,60',\n",
       "     'words': [{'boundingBox': '21,298,304,60', 'text': 'SPACE.'}]},\n",
       "    {'boundingBox': '26,387,294,37',\n",
       "     'words': [{'boundingBox': '26,387,210,37', 'text': 'Everything'},\n",
       "      {'boundingBox': '249,389,71,27', 'text': 'else'}]},\n",
       "    {'boundingBox': '127,431,198,36',\n",
       "     'words': [{'boundingBox': '127,431,31,29', 'text': 'is'},\n",
       "      {'boundingBox': '172,431,153,36', 'text': 'opinion.'}]}]}]}"
      ]
     },
     "execution_count": 15,
     "metadata": {},
     "output_type": "execute_result"
    }
   ],
   "source": [
    "analysis"
   ]
  },
  {
   "cell_type": "code",
   "execution_count": 18,
   "metadata": {},
   "outputs": [
    {
     "data": {
      "text/plain": [
       "[{'boundingBox': '28,16,288,41', 'text': 'NOTHING'},\n",
       " {'boundingBox': '27,66,283,52', 'text': 'EXISTS'},\n",
       " {'boundingBox': '27,128,292,49', 'text': 'EXCEPT'},\n",
       " {'boundingBox': '24,188,292,54', 'text': 'ATOMS'},\n",
       " {'boundingBox': '22,253,105,32', 'text': 'AND'},\n",
       " {'boundingBox': '144,253,175,32', 'text': 'EMPTY'},\n",
       " {'boundingBox': '21,298,304,60', 'text': 'SPACE.'},\n",
       " {'boundingBox': '26,387,210,37', 'text': 'Everything'},\n",
       " {'boundingBox': '249,389,71,27', 'text': 'else'},\n",
       " {'boundingBox': '127,431,31,29', 'text': 'is'},\n",
       " {'boundingBox': '172,431,153,36', 'text': 'opinion.'}]"
      ]
     },
     "execution_count": 18,
     "metadata": {},
     "output_type": "execute_result"
    }
   ],
   "source": [
    "line_infos = [region['lines'] for region in analysis['regions']]\n",
    "word_infos = []\n",
    "\n",
    "for line in line_infos:\n",
    "    for word_metadata in line:\n",
    "        for word_info in word_metadata['words']:\n",
    "            word_infos.append(word_info)\n",
    "            \n",
    "word_infos"
   ]
  },
  {
   "cell_type": "code",
   "execution_count": 19,
   "metadata": {},
   "outputs": [],
   "source": [
    "import matplotlib.pyplot as plt # 별명 짓기 (as)"
   ]
  },
  {
   "cell_type": "code",
   "execution_count": 22,
   "metadata": {},
   "outputs": [
    {
     "data": {
      "text/plain": [
       "(-0.5, 337.5, 478.5, -0.5)"
      ]
     },
     "execution_count": 22,
     "metadata": {},
     "output_type": "execute_result"
    },
    {
     "data": {
      "image/png": "[encoded data removed]",
      "text/plain": [
       "<Figure size 360x360 with 1 Axes>"
      ]
     },
     "metadata": {
      "needs_background": "light"
     },
     "output_type": "display_data"
    }
   ],
   "source": [
    "plt.figure(figsize=(5,5))\n",
    "image = Image.open(BytesIO(requests.get(image_url).content))\n",
    "\n",
    "ax = plt.imshow(image, alpha=0.5)\n",
    "\n",
    "for word in word_infos:\n",
    "    bbox = [int(num) for num in word[\"boundingBox\"].split(\",\")]\n",
    "    text = word[\"text\"]\n",
    "    origin = (bbox[0], bbox[1])\n",
    "    patch = plt.Rectangle(origin, bbox[2], bbox[3], fill=False, linewidth=2, color='y')\n",
    "    ax.axes.add_patch(patch)\n",
    "    plt.text(origin[0], origin[1], text, fontsize=20, weight=\"bold\", va=\"top\")\n",
    "    \n",
    "plt.axis(\"off\")"
   ]
  },
  {
   "cell_type": "code",
   "execution_count": 23,
   "metadata": {},
   "outputs": [],
   "source": [
    "korean_url = 'https://www.unikorea.go.kr/unikorea/common/images/content/peace.png'"
   ]
  },
  {
   "cell_type": "code",
   "execution_count": 24,
   "metadata": {},
   "outputs": [
    {
     "data": {
      "image/png": "[encoded data removed]",
      "text/plain": [
       "<PIL.PngImagePlugin.PngImageFile image mode=RGBA size=185x186 at 0x7FD0CFB24F50>"
      ]
     },
     "execution_count": 24,
     "metadata": {},
     "output_type": "execute_result"
    }
   ],
   "source": [
    "korean_image = Image.open(BytesIO(requests.get(korean_url).content))\n",
    "korean_image"
   ]
  },
  {
   "cell_type": "code",
   "execution_count": 26,
   "metadata": {},
   "outputs": [],
   "source": [
    "headers = {'Ocp-Apim-Subscription-Key': subscription_key}\n",
    "params = {\n",
    "    'language': 'ko',\n",
    "    'detectOrientation': 'true' # 방향 자동 인식\n",
    "}\n",
    "data = {'url': korean_url}"
   ]
  },
  {
   "cell_type": "code",
   "execution_count": 27,
   "metadata": {},
   "outputs": [],
   "source": [
    "response = requests.post(ocr_url, headers=headers, params=params, json=data)"
   ]
  },
  {
   "cell_type": "code",
   "execution_count": 28,
   "metadata": {},
   "outputs": [],
   "source": [
    "analysis = response.json()"
   ]
  },
  {
   "cell_type": "code",
   "execution_count": 29,
   "metadata": {},
   "outputs": [
    {
     "data": {
      "text/plain": [
       "{'language': 'ko',\n",
       " 'textAngle': 0.0,\n",
       " 'orientation': 'Up',\n",
       " 'regions': [{'boundingBox': '45,125,95,36',\n",
       "   'lines': [{'boundingBox': '45,125,95,17',\n",
       "     'words': [{'boundingBox': '45,125,46,17', 'text': '평화와'},\n",
       "      {'boundingBox': '95,125,45,17', 'text': '번영의'}]},\n",
       "    {'boundingBox': '70,144,46,17',\n",
       "     'words': [{'boundingBox': '70,144,46,17', 'text': '한반도'}]}]}]}"
      ]
     },
     "execution_count": 29,
     "metadata": {},
     "output_type": "execute_result"
    }
   ],
   "source": [
    "analysis"
   ]
  },
  {
   "cell_type": "code",
   "execution_count": 30,
   "metadata": {},
   "outputs": [
    {
     "data": {
      "text/plain": [
       "[{'boundingBox': '45,125,46,17', 'text': '평화와'},\n",
       " {'boundingBox': '95,125,45,17', 'text': '번영의'},\n",
       " {'boundingBox': '70,144,46,17', 'text': '한반도'}]"
      ]
     },
     "execution_count": 30,
     "metadata": {},
     "output_type": "execute_result"
    }
   ],
   "source": [
    "line_infos = [region['lines'] for region in analysis['regions']]\n",
    "word_infos = []\n",
    "\n",
    "for line in line_infos:\n",
    "    for word_metadata in line:\n",
    "        for word_info in word_metadata['words']:\n",
    "            word_infos.append(word_info)\n",
    "            \n",
    "word_infos"
   ]
  },
  {
   "cell_type": "code",
   "execution_count": null,
   "metadata": {},
   "outputs": [],
   "source": []
  }
 ],
 "metadata": {
  "kernelspec": {
   "display_name": "Python 3",
   "language": "python",
   "name": "python3"
  },
  "language_info": {
   "codemirror_mode": {
    "name": "ipython",
    "version": 3
   },
   "file_extension": ".py",
   "mimetype": "text/x-python",
   "name": "python",
   "nbconvert_exporter": "python",
   "pygments_lexer": "ipython3",
   "version": "3.8.8"
  }
 },
 "nbformat": 4,
 "nbformat_minor": 4
}
