{
 "cells": [
  {
   "cell_type": "markdown",
   "metadata": {},
   "source": [
    "# Face API Sample"
   ]
  },
  {
   "cell_type": "code",
   "execution_count": 1,
   "metadata": {},
   "outputs": [],
   "source": [
    "import requests\n",
    "from io import BytesIO\n",
    "from PIL import Image, ImageDraw, ImageFont"
   ]
  },
  {
   "cell_type": "code",
   "execution_count": 2,
   "metadata": {},
   "outputs": [],
   "source": [
    "subscription_key = 'subscription_key'"
   ]
  },
  {
   "cell_type": "code",
   "execution_count": 3,
   "metadata": {},
   "outputs": [],
   "source": [
    "face_api_url = 'https://daegufaceapi.cognitiveservices.azure.com/face/v1.0/detect'"
   ]
  },
  {
   "cell_type": "code",
   "execution_count": 4,
   "metadata": {},
   "outputs": [],
   "source": [
    "image_url = 'https://how-old.net/Images/faces2/main007.jpg'"
   ]
  },
  {
   "cell_type": "code",
   "execution_count": 5,
   "metadata": {},
   "outputs": [],
   "source": [
    "omygirl_url = 'https://cdnimg.melon.co.kr/resource/image/cds/musicstory/imgUrl20201125083158781.jpg/melon/optimize/90'"
   ]
  },
  {
   "cell_type": "code",
   "execution_count": 6,
   "metadata": {},
   "outputs": [],
   "source": [
    "img = Image.open(BytesIO(requests.get(omygirl_url).content))"
   ]
  },
  {
   "cell_type": "code",
   "execution_count": 8,
   "metadata": {},
   "outputs": [],
   "source": [
    "headers = {'Ocp-Apim-Subscription-Key': subscription_key}"
   ]
  },
  {
   "cell_type": "code",
   "execution_count": 9,
   "metadata": {},
   "outputs": [],
   "source": [
    "params = {\n",
    "    'returnFaceId': 'true',\n",
    "    'returnFacelandmarks': 'false', # 얼굴이정표 설정\n",
    "    'returnFaceAttributes': 'age,gender,emotion'\n",
    "}"
   ]
  },
  {
   "cell_type": "code",
   "execution_count": 10,
   "metadata": {},
   "outputs": [],
   "source": [
    "data = { 'url': omygirl_url }"
   ]
  },
  {
   "cell_type": "code",
   "execution_count": 11,
   "metadata": {},
   "outputs": [],
   "source": [
    "response = requests.post(face_api_url, params=params, headers=headers, json=data)"
   ]
  },
  {
   "cell_type": "code",
   "execution_count": 12,
   "metadata": {},
   "outputs": [],
   "source": [
    "faces = response.json()"
   ]
  },
  {
   "cell_type": "code",
   "execution_count": 13,
   "metadata": {},
   "outputs": [
    {
     "data": {
      "text/plain": [
       "[{'faceId': '078e8169-c09a-4a7b-a8ad-5e0cbd09c2e3',\n",
       "  'faceRectangle': {'top': 116, 'left': 603, 'width': 43, 'height': 43},\n",
       "  'faceAttributes': {'gender': 'female',\n",
       "   'age': 21.0,\n",
       "   'emotion': {'anger': 0.0,\n",
       "    'contempt': 0.001,\n",
       "    'disgust': 0.0,\n",
       "    'fear': 0.0,\n",
       "    'happiness': 0.001,\n",
       "    'neutral': 0.768,\n",
       "    'sadness': 0.231,\n",
       "    'surprise': 0.0}}},\n",
       " {'faceId': 'a215552a-6bbf-4d9d-9515-0fae28192c00',\n",
       "  'faceRectangle': {'top': 130, 'left': 91, 'width': 42, 'height': 42},\n",
       "  'faceAttributes': {'gender': 'female',\n",
       "   'age': 21.0,\n",
       "   'emotion': {'anger': 0.0,\n",
       "    'contempt': 0.152,\n",
       "    'disgust': 0.0,\n",
       "    'fear': 0.0,\n",
       "    'happiness': 0.001,\n",
       "    'neutral': 0.845,\n",
       "    'sadness': 0.001,\n",
       "    'surprise': 0.001}}},\n",
       " {'faceId': '415feecb-a079-499e-8a6a-1f54262c92b2',\n",
       "  'faceRectangle': {'top': 146, 'left': 173, 'width': 41, 'height': 41},\n",
       "  'faceAttributes': {'gender': 'female',\n",
       "   'age': 21.0,\n",
       "   'emotion': {'anger': 0.0,\n",
       "    'contempt': 0.001,\n",
       "    'disgust': 0.0,\n",
       "    'fear': 0.0,\n",
       "    'happiness': 0.999,\n",
       "    'neutral': 0.0,\n",
       "    'sadness': 0.0,\n",
       "    'surprise': 0.0}}},\n",
       " {'faceId': 'aa0429bc-ffa0-47c1-a395-fe3723ecfb9a',\n",
       "  'faceRectangle': {'top': 142, 'left': 343, 'width': 38, 'height': 38},\n",
       "  'faceAttributes': {'gender': 'female',\n",
       "   'age': 22.0,\n",
       "   'emotion': {'anger': 0.0,\n",
       "    'contempt': 0.0,\n",
       "    'disgust': 0.0,\n",
       "    'fear': 0.0,\n",
       "    'happiness': 1.0,\n",
       "    'neutral': 0.0,\n",
       "    'sadness': 0.0,\n",
       "    'surprise': 0.0}}},\n",
       " {'faceId': 'df732316-b8e2-4c2c-8ea8-38270de421e9',\n",
       "  'faceRectangle': {'top': 132, 'left': 526, 'width': 38, 'height': 38},\n",
       "  'faceAttributes': {'gender': 'female',\n",
       "   'age': 20.0,\n",
       "   'emotion': {'anger': 0.0,\n",
       "    'contempt': 0.002,\n",
       "    'disgust': 0.0,\n",
       "    'fear': 0.0,\n",
       "    'happiness': 0.995,\n",
       "    'neutral': 0.003,\n",
       "    'sadness': 0.0,\n",
       "    'surprise': 0.0}}},\n",
       " {'faceId': '977625da-7a37-4a75-8d24-6d6f6826cbf7',\n",
       "  'faceRectangle': {'top': 131, 'left': 268, 'width': 37, 'height': 37},\n",
       "  'faceAttributes': {'gender': 'female',\n",
       "   'age': 23.0,\n",
       "   'emotion': {'anger': 0.0,\n",
       "    'contempt': 0.004,\n",
       "    'disgust': 0.0,\n",
       "    'fear': 0.0,\n",
       "    'happiness': 0.096,\n",
       "    'neutral': 0.89,\n",
       "    'sadness': 0.009,\n",
       "    'surprise': 0.0}}},\n",
       " {'faceId': 'ad14f8e5-9173-4112-9bd3-1d0ead371f22',\n",
       "  'faceRectangle': {'top': 130, 'left': 434, 'width': 37, 'height': 37},\n",
       "  'faceAttributes': {'gender': 'female',\n",
       "   'age': 22.0,\n",
       "   'emotion': {'anger': 0.0,\n",
       "    'contempt': 0.0,\n",
       "    'disgust': 0.0,\n",
       "    'fear': 0.0,\n",
       "    'happiness': 0.955,\n",
       "    'neutral': 0.044,\n",
       "    'sadness': 0.0,\n",
       "    'surprise': 0.0}}}]"
      ]
     },
     "execution_count": 13,
     "metadata": {},
     "output_type": "execute_result"
    }
   ],
   "source": [
    "faces"
   ]
  },
  {
   "cell_type": "markdown",
   "metadata": {},
   "source": [
    "## 얼굴 이정표\n",
    "[얼굴이정표](https://docs.microsoft.com/ko-kr/azure/cognitive-services/face/concepts/face-detection)\n",
    "[얼굴 속성 정보](https://westus.dev.cognitive.microsoft.com/docs/services/563879b61984550e40cbbe8d/operations/563879b61984550f30395236)\n",
    "![얼굴이정표](https://docs.microsoft.com/ko-kr/azure/cognitive-services/face/images/landmarks.1.jpg)"
   ]
  },
  {
   "cell_type": "code",
   "execution_count": 18,
   "metadata": {},
   "outputs": [],
   "source": [
    "def CreateImage(faces):\n",
    "    \n",
    "    for face in faces:\n",
    "        rect = face['faceRectangle']\n",
    "        # 사각형 출력\n",
    "        top = rect['top']\n",
    "        left = rect['left']\n",
    "        bottom = rect['height'] + top\n",
    "        right = rect['width'] + left\n",
    "        \n",
    "        draw.rectangle(((left,top),(right,bottom)), outline='red')\n",
    "        \n",
    "        # 정보 작성\n",
    "        fontX = left\n",
    "        fontY = top - 18\n",
    "        \n",
    "        face_info = face['faceAttributes']\n",
    "        gender = face_info['gender']\n",
    "        age = face_info['age']\n",
    "        \n",
    "        result = 'Gender: {0} Age: {1}'.format(gender, age)\n",
    "        \n",
    "        draw.text((fontX, fontY), result, fill='red')\n",
    "        "
   ]
  },
  {
   "cell_type": "code",
   "execution_count": 19,
   "metadata": {},
   "outputs": [],
   "source": [
    "draw = ImageDraw.Draw(img)"
   ]
  },
  {
   "cell_type": "code",
   "execution_count": 20,
   "metadata": {},
   "outputs": [],
   "source": [
    "CreateImage(faces)"
   ]
  },
  {
   "cell_type": "markdown",
   "metadata": {},
   "source": [
    "face recognition result: img<br>\n",
    "![result](./face_result.png)"
   ]
  }
 ],
 "metadata": {
  "kernelspec": {
   "display_name": "Python 3",
   "language": "python",
   "name": "python3"
  },
  "language_info": {
   "codemirror_mode": {
    "name": "ipython",
    "version": 3
   },
   "file_extension": ".py",
   "mimetype": "text/x-python",
   "name": "python",
   "nbconvert_exporter": "python",
   "pygments_lexer": "ipython3",
   "version": "3.8.8"
  }
 },
 "nbformat": 4,
 "nbformat_minor": 4
}
