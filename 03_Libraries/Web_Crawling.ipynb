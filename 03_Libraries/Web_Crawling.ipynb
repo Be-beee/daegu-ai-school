{
 "cells": [
  {
   "cell_type": "markdown",
   "id": "9d1c84e8",
   "metadata": {},
   "source": [
    "# 웹 크롤링"
   ]
  },
  {
   "cell_type": "markdown",
   "id": "12599230",
   "metadata": {},
   "source": [
    "## CSS\n",
    "\n",
    "- '#'은 속성 id 접근\n",
    "- '.'은 속성 class 접근\n",
    "<br>"
   ]
  },
  {
   "cell_type": "markdown",
   "id": "978a15aa",
   "metadata": {},
   "source": [
    "## chromedriver test"
   ]
  },
  {
   "cell_type": "code",
   "execution_count": 1,
   "id": "6d6b2703",
   "metadata": {},
   "outputs": [],
   "source": [
    "from selenium import webdriver\n",
    "from urllib.parse import quote_plus\n",
    "import urllib.request\n",
    "\n",
    "driver = webdriver.Chrome('./chromedriver')\n",
    "driver.implicitly_wait(3)\n",
    "\n",
    "# driver.get('https://google.com')"
   ]
  },
  {
   "cell_type": "markdown",
   "id": "d0c9d42f",
   "metadata": {},
   "source": [
    "## 실습"
   ]
  },
  {
   "cell_type": "code",
   "execution_count": 2,
   "id": "597ccfca",
   "metadata": {},
   "outputs": [
    {
     "name": "stdout",
     "output_type": "stream",
     "text": [
      "URL:  file:///Users/seobokyung/Desktop/web/clock.html\n",
      "Title:  시계\n"
     ]
    }
   ],
   "source": [
    "driver = webdriver.Chrome('./chromedriver')\n",
    "driver.implicitly_wait(3)\n",
    "\n",
    "driver.get('file:///Users/seobokyung/Desktop/web/clock.html')\n",
    "\n",
    "print('URL: ', driver.current_url)\n",
    "print('Title: ', driver.title)"
   ]
  },
  {
   "cell_type": "markdown",
   "id": "93ec2300",
   "metadata": {},
   "source": [
    "## 주요 메서드\n",
    "\n",
    "- id = 식별 가능한 것\n",
    "- find_element_by_{target} 요소 중에 첫번째 것 하나만 가져옴\n",
    "- fine_elements_by_{target} 요소 포함 전체 데이터를 가져오는 것\n",
    "\n",
    "`text`는 요소를 제외한 contents를 가져온다.<br>\n",
    "ex. `<div>안녕하세요<div>` -> 안녕하세요<br><br>\n",
    "\n",
    "### css_selector\n",
    "\n",
    "ex. `#gnb .list_nav .nav`<br>\n",
    "css 스타일을 적용하기 위해 마크업랭귀지에 접근하는 방식<br>\n",
    "```html\n",
    "<div class=\"btns\">\n",
    "    <button class=\"btn-default\" id=\"btn1\" type=\"button\">검색1</button>\n",
    "    <button class=\"btn-default btn2\" type=\"button\">검색2</button>\n",
    "    btn-default와 btn2는 같은 층의 클래스입니다.\n",
    "</div>\n",
    "```\n",
    "각 버튼에 접근하기 위해서는<br>\n",
    "- 검색1 -> #btn1\n",
    "- 검색2 -> .btn2\n",
    "\n",
    "cf.\n",
    "- .btn-default.select 부모자식 관계\n",
    "- .btn-default .select 같은 층\n",
    "\n",
    "<br>\n",
    "\n",
    "### xpath (XML Path Language)\n",
    "\n",
    "문서 내의 위치 정보를 위한 언어<br>\n",
    "ex. /A/B/C -> 절대경로<br>\n",
    "ex2. A//B*C -> 상대경로"
   ]
  },
  {
   "cell_type": "code",
   "execution_count": 3,
   "id": "38c38db4",
   "metadata": {},
   "outputs": [
    {
     "name": "stdout",
     "output_type": "stream",
     "text": [
      "현재 시간:  04:59:01 PM\n"
     ]
    }
   ],
   "source": [
    "element = driver.find_element_by_id('clock')\n",
    "print('현재 시간: ', element.text)"
   ]
  },
  {
   "cell_type": "code",
   "execution_count": 4,
   "id": "f0ae7e3f",
   "metadata": {},
   "outputs": [],
   "source": [
    "element = driver.find_element_by_name('q')\n",
    "element.send_keys('강아지')\n",
    "\n",
    "from selenium.webdriver.common.keys import Keys\n",
    "element.send_keys(Keys.RETURN)"
   ]
  },
  {
   "cell_type": "code",
   "execution_count": 5,
   "id": "3c9bbbe2",
   "metadata": {},
   "outputs": [],
   "source": [
    "element = driver.find_element_by_tag_name('button')"
   ]
  },
  {
   "cell_type": "code",
   "execution_count": 6,
   "id": "18fd4437",
   "metadata": {},
   "outputs": [],
   "source": [
    "element.click()"
   ]
  },
  {
   "cell_type": "code",
   "execution_count": 7,
   "id": "ca9ac12b",
   "metadata": {},
   "outputs": [
    {
     "name": "stdout",
     "output_type": "stream",
     "text": [
      "file:///Users/seobokyung/Desktop/web/dog1.jpg\n",
      "file:///Users/seobokyung/Desktop/web/dog2.jpg\n"
     ]
    }
   ],
   "source": [
    "elements = driver.find_elements_by_tag_name('img')\n",
    "\n",
    "for element in elements:\n",
    "    src = element.get_attribute('src')\n",
    "    print(src)"
   ]
  },
  {
   "cell_type": "markdown",
   "id": "670aafaa",
   "metadata": {},
   "source": [
    "## chromedriver 사용하지 않을 때\n",
    "\n",
    "```python\n",
    "from urllib.parse import quote_plus\n",
    "from bs4 import BeautifulSoup\n",
    "import urllib.request\n",
    "import pyperclip\n",
    "\n",
    "hdr = {'User-Agent': 'Mozilla/5.0'}\n",
    "baseUrl = 'http://www.google.com/search?q='\n",
    "plusUrl = input('검색어를 입력하세요: ')\n",
    "url = baseUrl + quote_plus(plusUrl)\n",
    "\n",
    "req = urllib.request.Request(url, headers=hdr)\n",
    "html = urllib.request.urlopen(req).read()\n",
    "soup = BeautifulSoup(html, 'html.parser')\n",
    "\n",
    "pyperclip.copy(str(soup))\n",
    "```"
   ]
  },
  {
   "cell_type": "code",
   "execution_count": 8,
   "id": "31a407a8",
   "metadata": {},
   "outputs": [
    {
     "name": "stdout",
     "output_type": "stream",
     "text": [
      "검색어를 입력하세요: 캠핑\n",
      "캠핑 - 나무위키\n",
      "https://namu.wiki/w/%EC%BA%A0%ED%95%91\n",
      "한국관광공사 고캠핑\n",
      "https://www.gocamping.or.kr/\n",
      "오캠몰 - 대한민국 대표 캠핑용품 전문점\n",
      "http://www.ocamall.com/\n",
      "캠핑 | 코스트코 코리아\n",
      "https://www.costco.co.kr/SportsFitnessCamping/Camping/c/cos_4.2\n",
      "아웃도어의 모든것! 캠핑온\n",
      "http://www.campingon.co.kr/\n",
      "캠퍼들이 추천하는 캠핑 장비 , 초캠몰!!! : Mall\n",
      "https://www.chocammall.co.kr/\n",
      "서울로 떠나는 캠핑-중랑캠핑숲 가족캠핑장 - 서울특별시\n",
      "https://www.seoul.go.kr/storyw/campingjang/jungnang.do\n",
      "도화지오토캠핑장 - 땡큐캠핑 예약\n",
      "http://r.camperstory.com/resMain.hbb?reserve_path=RP&campseq=3439\n"
     ]
    }
   ],
   "source": [
    "baseUrl = 'http://www.google.com/search?q='\n",
    "plusUrl = input('검색어를 입력하세요: ')\n",
    "\n",
    "url = baseUrl + quote_plus(plusUrl)\n",
    "\n",
    "driver = webdriver.Chrome('./chromedriver')\n",
    "driver.implicitly_wait(3)\n",
    "\n",
    "driver.get(url)\n",
    "\n",
    "g = driver.find_elements_by_css_selector('.g')\n",
    "\n",
    "for i in g:\n",
    "    print(i.find_element_by_css_selector('.DKV0Md').text)\n",
    "    print(i.find_element_by_tag_name('a').get_attribute('href'))\n",
    "    \n",
    "driver.close()"
   ]
  },
  {
   "cell_type": "markdown",
   "id": "d1e74fcc",
   "metadata": {},
   "source": [
    "## cf. Beautiful Soup\n",
    "\n",
    "```python\n",
    "baseUrl = 'http://www.google.com/search?q='\n",
    "plusUrl = input('검색어를 입력하세요 : ')\n",
    "url = baseUrl + quote_plus(plusUrl)\n",
    "\n",
    "driver = webdriver.Chrome()\n",
    "driver.get(url)\n",
    "\n",
    "html = driver.page_source\n",
    "soup = BeautifulSoup(html)\n",
    "\n",
    "\n",
    "# BeautifulSoup\n",
    "g = soup.select('.g')\n",
    "\n",
    "for i in g:\n",
    "print(i.select_one('.DKV0Md').text)\n",
    "print(i.a.attrs['href'])\n",
    "print()\n",
    "\n",
    "\n",
    "driver.close()\n",
    "```"
   ]
  },
  {
   "cell_type": "code",
   "execution_count": 9,
   "id": "3e49c987",
   "metadata": {},
   "outputs": [
    {
     "name": "stdout",
     "output_type": "stream",
     "text": [
      "1 발신제한\n",
      "2 콰이어트 플레이스 2\n",
      "3 킬러의 보디가드 2\n",
      "4 크루엘라\n",
      "5 인 더 하이츠\n",
      "6 루카\n",
      "7 블랙 위도우\n",
      "8 미드나이트\n",
      "9 랑종\n",
      "10 여고괴담 여섯번째 이야기 : 모교\n",
      "11 컨저링 3: 악마가 시켰다\n",
      "12 캐시트럭\n",
      "13 아이스 로드\n",
      "14 분노의 질주: 더 얼티메이트\n",
      "15 메이드 인 루프탑\n",
      "16 혼자 사는 사람들\n",
      "17 괴기맨숀\n",
      "18 체르노빌 1986\n",
      "19 빛나는 순간\n",
      "20 싱크홀\n",
      "21 흩어진 밤\n",
      "22 콰이어트 플레이스\n",
      "23 극장판 귀멸의 칼날: 무한열차편\n",
      "24 다크 앤드 위키드\n",
      "25 모가디슈\n",
      "26 열아홉\n",
      "27 크레센도\n",
      "28 뱅퀴시\n",
      "29 그레타 툰베리\n",
      "30 웬디\n",
      "31 샤크 : 더 비기닝\n",
      "32 기담\n",
      "33 인질\n",
      "34 블라이스 스피릿\n",
      "35 이보다 더 좋을 순 없다\n",
      "36 야구소녀\n",
      "37 더 수어사이드 스쿼드\n",
      "38 방법: 재차의\n",
      "39 북샵\n",
      "40 노매드랜드\n",
      "41 굴뚝마을의 푸펠\n",
      "42 파이프라인\n",
      "43 이스케이프 룸 2: 노 웨이 아웃\n",
      "44 보스 베이비 2\n",
      "45 신해석 삼국지\n",
      "46 우리는 매일매일\n",
      "47 나만 보이니\n",
      "48 좀비크러쉬: 헤이리\n",
      "49 플래시백\n",
      "50 가버나움\n"
     ]
    }
   ],
   "source": [
    "baseUrl='http://movie.naver.com/movie/sdb/rank/rmovie.nhn'\n",
    "\n",
    "driver = webdriver.Chrome('./chromedriver')\n",
    "driver.implicitly_wait(3)\n",
    "\n",
    "driver.get(baseUrl)\n",
    "\n",
    "titles = driver.find_elements_by_css_selector('.tit3')\n",
    "\n",
    "# print(len(ranks))\n",
    "\n",
    "for i in range(len(titles)):\n",
    "    print(f'{i+1} {titles[i].text}')\n",
    "    \n",
    "    \n",
    "driver.close()"
   ]
  },
  {
   "cell_type": "code",
   "execution_count": 10,
   "id": "339ea76f",
   "metadata": {},
   "outputs": [
    {
     "name": "stdout",
     "output_type": "stream",
     "text": [
      "1 발신제한\n",
      "2 콰이어트 플레이스 2\n",
      "3 킬러의 보디가드 2\n",
      "4 크루엘라\n",
      "5 인 더 하이츠\n",
      "6 루카\n",
      "7 블랙 위도우\n",
      "8 미드나이트\n",
      "9 랑종\n",
      "10 여고괴담 여섯번째 이야기 : 모교\n",
      "11 컨저링 3: 악마가 시켰다\n",
      "12 캐시트럭\n",
      "13 아이스 로드\n",
      "14 분노의 질주: 더 얼티메이트\n",
      "15 메이드 인 루프탑\n",
      "16 혼자 사는 사람들\n",
      "17 괴기맨숀\n",
      "18 체르노빌 1986\n",
      "19 빛나는 순간\n",
      "20 싱크홀\n",
      "21 흩어진 밤\n",
      "22 콰이어트 플레이스\n",
      "23 극장판 귀멸의 칼날: 무한열차편\n",
      "24 다크 앤드 위키드\n",
      "25 모가디슈\n",
      "26 열아홉\n",
      "27 크레센도\n",
      "28 뱅퀴시\n",
      "29 그레타 툰베리\n",
      "30 웬디\n",
      "31 샤크 : 더 비기닝\n",
      "32 기담\n",
      "33 인질\n",
      "34 블라이스 스피릿\n",
      "35 이보다 더 좋을 순 없다\n",
      "36 야구소녀\n",
      "37 더 수어사이드 스쿼드\n",
      "38 방법: 재차의\n",
      "39 북샵\n",
      "40 노매드랜드\n",
      "41 굴뚝마을의 푸펠\n",
      "42 파이프라인\n",
      "43 이스케이프 룸 2: 노 웨이 아웃\n",
      "44 보스 베이비 2\n",
      "45 신해석 삼국지\n",
      "46 우리는 매일매일\n",
      "47 나만 보이니\n",
      "48 좀비크러쉬: 헤이리\n",
      "49 플래시백\n",
      "50 가버나움\n"
     ]
    }
   ],
   "source": [
    "baseUrl='http://movie.naver.com/movie/sdb/rank/rmovie.nhn'\n",
    "\n",
    "driver = webdriver.Chrome('./chromedriver')\n",
    "driver.implicitly_wait(3)\n",
    "\n",
    "driver.get(baseUrl)\n",
    "\n",
    "a_movies = driver.find_elements_by_css_selector('table.list_ranking a')\n",
    "\n",
    "for idx, a_movie in enumerate(a_movies, 1):\n",
    "    title = a_movie.get_attribute('title')\n",
    "    print(idx, title)\n",
    "    \n",
    "    \n",
    "driver.close()"
   ]
  }
 ],
 "metadata": {
  "kernelspec": {
   "display_name": "Python 3",
   "language": "python",
   "name": "python3"
  },
  "language_info": {
   "codemirror_mode": {
    "name": "ipython",
    "version": 3
   },
   "file_extension": ".py",
   "mimetype": "text/x-python",
   "name": "python",
   "nbconvert_exporter": "python",
   "pygments_lexer": "ipython3",
   "version": "3.8.8"
  }
 },
 "nbformat": 4,
 "nbformat_minor": 5
}
