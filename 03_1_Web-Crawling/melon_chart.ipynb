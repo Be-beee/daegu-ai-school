{
 "cells": [
  {
   "cell_type": "code",
   "execution_count": 1,
   "id": "7a504053",
   "metadata": {},
   "outputs": [],
   "source": [
    "from selenium import webdriver\n",
    "from urllib.parse import quote_plus\n",
    "import urllib.request"
   ]
  },
  {
   "cell_type": "code",
   "execution_count": 2,
   "id": "b56a24de",
   "metadata": {},
   "outputs": [],
   "source": [
    "# 멜론 차트 파싱, 순위, 노래제목, 가수\n",
    "# csv로 저장"
   ]
  },
  {
   "cell_type": "code",
   "execution_count": 3,
   "id": "72eeed7d",
   "metadata": {},
   "outputs": [],
   "source": [
    "melon_url = 'https://www.melon.com/chart/index.htm'\n",
    "driver = webdriver.Chrome('./chromedriver')\n",
    "driver.implicitly_wait(3)\n",
    "\n",
    "driver.get(melon_url)\n",
    "\n",
    "tr = driver.find_elements_by_css_selector('.service_list_song table tbody tr')\n",
    "\n",
    "data = []\n",
    "\n",
    "for i, v in enumerate(tr):\n",
    "    songTitle = v.find_element_by_css_selector('.wrap_song_info .ellipsis.rank01').text\n",
    "    singer = v.find_element_by_css_selector('.wrap_song_info .rank02').text\n",
    "    data.append([str(i+1), songTitle, singer])"
   ]
  },
  {
   "cell_type": "code",
   "execution_count": 4,
   "id": "cbfa48cb",
   "metadata": {},
   "outputs": [],
   "source": [
    "with open('melon_rank.csv', 'w', encoding='utf-8') as file:\n",
    "    file.write('순위,제목,노래가수\\n')\n",
    "    for i in data:\n",
    "        file.write('{0},{1},{2}\\n'.format(i[0], i[1], i[2]))\n",
    "        \n",
    "        \n",
    "driver.close()"
   ]
  },
  {
   "cell_type": "code",
   "execution_count": null,
   "id": "1c5ec822",
   "metadata": {},
   "outputs": [],
   "source": []
  }
 ],
 "metadata": {
  "kernelspec": {
   "display_name": "Python 3",
   "language": "python",
   "name": "python3"
  },
  "language_info": {
   "codemirror_mode": {
    "name": "ipython",
    "version": 3
   },
   "file_extension": ".py",
   "mimetype": "text/x-python",
   "name": "python",
   "nbconvert_exporter": "python",
   "pygments_lexer": "ipython3",
   "version": "3.8.8"
  }
 },
 "nbformat": 4,
 "nbformat_minor": 5
}
