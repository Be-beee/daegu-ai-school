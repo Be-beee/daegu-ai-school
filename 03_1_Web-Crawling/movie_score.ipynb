{
 "cells": [
  {
   "cell_type": "code",
   "execution_count": 1,
   "id": "a73a5cd5",
   "metadata": {},
   "outputs": [],
   "source": [
    "# 영화 네티즌 평점\n",
    "# {영화 제목}-{점수 평균}\n",
    "# 3페이지까지 파싱하기"
   ]
  },
  {
   "cell_type": "code",
   "execution_count": 2,
   "id": "3ab4e33b",
   "metadata": {},
   "outputs": [],
   "source": [
    "from selenium import webdriver"
   ]
  },
  {
   "cell_type": "code",
   "execution_count": 3,
   "id": "13357089",
   "metadata": {},
   "outputs": [],
   "source": [
    "review_url = 'https://movie.naver.com/movie/point/af/list.nhn?page='\n",
    "driver = webdriver.Chrome('./chromedriver')\n",
    "\n",
    "movie_dict = dict()\n",
    "\n",
    "for page_no in range(1, 4):\n",
    "    driver.implicitly_wait(3)\n",
    "    driver.get(review_url + str(page_no))\n",
    "\n",
    "    items = driver.find_elements_by_css_selector('#content table.list_netizen tbody tr')\n",
    "#     items = driver.find_elements_by_css_selector('table.list_netizen tbody tr td.title')\n",
    "\n",
    "    for item in items:\n",
    "        title = item.find_element_by_css_selector('.title a').text\n",
    "        score = item.find_element_by_css_selector('.list_netizen_score em').text\n",
    "        \n",
    "        if title not in movie_dict:\n",
    "            movie_dict[title] = list()\n",
    "        movie_dict[title].append(int(score))\n",
    "        \n",
    "movie_dict_mean = list()\n",
    "for title, grade in movie_dict.items():\n",
    "    movie_dict_mean.append((title, sum(grade)/len(grade)))\n",
    "    \n",
    "driver.close()"
   ]
  },
  {
   "cell_type": "code",
   "execution_count": 4,
   "id": "b2bd7097",
   "metadata": {
    "scrolled": true
   },
   "outputs": [
    {
     "data": {
      "text/plain": [
       "[('루카', 8.5),\n",
       " ('새콤달콤', 10.0),\n",
       " ('모술', 7.0),\n",
       " ('발신제한', 4.666666666666667),\n",
       " ('황혼의 사무라이', 10.0),\n",
       " ('미드나이트', 5.5),\n",
       " ('제8일의 밤', 2.0),\n",
       " ('우리는 매일매일', 10.0),\n",
       " ('인트로덕션', 9.0),\n",
       " ('바람의 검심 최종장: 더 파이널', 10.0),\n",
       " ('클리프행어', 9.0),\n",
       " ('조커', 5.5),\n",
       " ('아이윌 송', 10.0),\n",
       " ('크루엘라', 10.0),\n",
       " ('인 더 하이츠', 9.0),\n",
       " ('포겟 미 낫-엄마에게 쓰는 편지', 10.0),\n",
       " ('피아니스트', 10.0),\n",
       " ('킬 빌 - 1부', 10.0),\n",
       " ('#살아있다', 4.0),\n",
       " ('모범시민', 6.0)]"
      ]
     },
     "execution_count": 4,
     "metadata": {},
     "output_type": "execute_result"
    }
   ],
   "source": [
    "movie_dict_mean"
   ]
  }
 ],
 "metadata": {
  "kernelspec": {
   "display_name": "Python 3",
   "language": "python",
   "name": "python3"
  },
  "language_info": {
   "codemirror_mode": {
    "name": "ipython",
    "version": 3
   },
   "file_extension": ".py",
   "mimetype": "text/x-python",
   "name": "python",
   "nbconvert_exporter": "python",
   "pygments_lexer": "ipython3",
   "version": "3.8.8"
  }
 },
 "nbformat": 4,
 "nbformat_minor": 5
}
